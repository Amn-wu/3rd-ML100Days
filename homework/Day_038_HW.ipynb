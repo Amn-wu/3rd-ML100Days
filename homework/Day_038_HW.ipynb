{
 "cells": [
  {
   "cell_type": "markdown",
   "metadata": {},
   "source": [
    "## [作業重點]\n",
    "使用 Sklearn 中的線性迴歸模型，來訓練各種資料集，務必了解送進去模型訓練的**資料型態**為何，也請了解模型中各項參數的意義"
   ]
  },
  {
   "cell_type": "markdown",
   "metadata": {},
   "source": [
    "## 作業\n",
    "試著使用 sklearn datasets 的其他資料集 (wine, boston, ...)，來訓練自己的線性迴歸模型。"
   ]
  },
  {
   "cell_type": "markdown",
   "metadata": {},
   "source": [
    "### HINT: 注意 label 的型態，確定資料集的目標是分類還是回歸，在使用正確的模型訓練！"
   ]
  },
  {
   "cell_type": "code",
   "execution_count": 1,
   "metadata": {},
   "outputs": [],
   "source": [
    "import numpy as np\n",
    "import matplotlib.pyplot as plt\n",
    "from sklearn import datasets, linear_model\n",
    "from sklearn.model_selection import train_test_split\n",
    "from sklearn.metrics import mean_squared_error, r2_score, accuracy_score\n",
    "\n",
    "from sklearn.model_selection import cross_val_score\n",
    "\n",
    "import warnings\n",
    "warnings.filterwarnings('ignore')"
   ]
  },
  {
   "cell_type": "markdown",
   "metadata": {},
   "source": [
    "## Boston"
   ]
  },
  {
   "cell_type": "code",
   "execution_count": 16,
   "metadata": {},
   "outputs": [
    {
     "name": "stdout",
     "output_type": "stream",
     "text": [
      "target y : [24.  21.6 34.7 33.4 36.2] \n",
      "\n",
      "shape:\n",
      " (506, 13)\n",
      "\n",
      "feature name:\n",
      " ['CRIM' 'ZN' 'INDUS' 'CHAS' 'NOX' 'RM' 'AGE' 'DIS' 'RAD' 'TAX' 'PTRATIO'\n",
      " 'B' 'LSTAT']\n",
      "\n",
      " c.v. score : 0.731164762811346\n",
      "\n",
      "Coefficients: [-9.87931696e-02  4.75027102e-02  6.69491841e-02  1.26954150e+00\n",
      " -1.54697747e+01  4.31968412e+00 -9.80167937e-04 -1.36597953e+00\n",
      "  2.84521838e-01 -1.27533606e-02 -9.13487599e-01  7.22553507e-03\n",
      " -5.43790245e-01] \n",
      "\n",
      "MSE: 28.192486\n"
     ]
    }
   ],
   "source": [
    "boston = datasets.load_boston()\n",
    "\n",
    "print('target y : %s \\n' % boston.target[0:5])\n",
    "print('shape:\\n', boston.data.shape)\n",
    "print('\\nfeature name:\\n', boston.feature_names)\n",
    "\n",
    "X = boston.data\n",
    "y = boston.target\n",
    "\n",
    "X_train, X_test, y_train, y_test = train_test_split(X, y, test_size = 0.2, random_state = 123)\n",
    "reg = linear_model.LinearRegression()\n",
    "reg.fit(X_train, y_train)\n",
    "print(f'\\n c.v. score : {cross_val_score(reg, X_train, y_train, cv=5).mean()}\\n')\n",
    "\n",
    "y_pred = reg.predict(X_test)\n",
    "print('Coefficients: %s \\n' % reg.coef_)\n",
    "mse = mean_squared_error(y_test, y_pred)\n",
    "print(\"MSE: %2f\" % mse)"
   ]
  },
  {
   "cell_type": "markdown",
   "metadata": {},
   "source": [
    "## Wine"
   ]
  },
  {
   "cell_type": "code",
   "execution_count": 22,
   "metadata": {},
   "outputs": [
    {
     "name": "stdout",
     "output_type": "stream",
     "text": [
      "target y : [0 0 0 0 0] \n",
      "\n",
      "shape : \n",
      " (178, 13)\n",
      "\n",
      "feature name:\n",
      " ['alcohol', 'malic_acid', 'ash', 'alcalinity_of_ash', 'magnesium', 'total_phenols', 'flavanoids', 'nonflavanoid_phenols', 'proanthocyanins', 'color_intensity', 'hue', 'od280/od315_of_diluted_wines', 'proline']\n",
      "\n",
      "target names:\n",
      " ['class_0' 'class_1' 'class_2']\n",
      "\n",
      " c.v. score : 0.9365641025641025\n",
      "\n",
      "Accuracy :  0.9444444444444444\n"
     ]
    }
   ],
   "source": [
    "wine = datasets.load_wine()\n",
    "\n",
    "print(\"target y : %s \\n\" % wine.target[0:5])\n",
    "print(\"shape : \\n\", wine.data.shape)\n",
    "print('\\nfeature name:\\n', wine.feature_names)\n",
    "print('\\ntarget names:\\n', wine.target_names)\n",
    "\n",
    "X = wine.data\n",
    "y = wine.target\n",
    "\n",
    "X_train, X_test, y_train, y_test = train_test_split(X, y, test_size = 0.3, random_state = 123)\n",
    "logreg = linear_model.LogisticRegression()\n",
    "logreg.fit(X_train, y_train)\n",
    "print(f'\\n c.v. score : {cross_val_score(logreg, X_train, y_train, cv=5).mean()}\\n')\n",
    "\n",
    "y_pred = logreg.predict(X_test)\n",
    "acc = accuracy_score(y_test, y_pred)\n",
    "print(\"Accuracy : \", acc)"
   ]
  },
  {
   "cell_type": "markdown",
   "metadata": {},
   "source": [
    "## Breast_Cancer"
   ]
  },
  {
   "cell_type": "code",
   "execution_count": 25,
   "metadata": {},
   "outputs": [
    {
     "name": "stdout",
     "output_type": "stream",
     "text": [
      "target y : [0 0 0 0 0] \n",
      "\n",
      "shape:\n",
      " (569, 30)\n",
      "\n",
      "feature name:\n",
      " ['mean radius' 'mean texture' 'mean perimeter' 'mean area'\n",
      " 'mean smoothness' 'mean compactness' 'mean concavity'\n",
      " 'mean concave points' 'mean symmetry' 'mean fractal dimension'\n",
      " 'radius error' 'texture error' 'perimeter error' 'area error'\n",
      " 'smoothness error' 'compactness error' 'concavity error'\n",
      " 'concave points error' 'symmetry error' 'fractal dimension error'\n",
      " 'worst radius' 'worst texture' 'worst perimeter' 'worst area'\n",
      " 'worst smoothness' 'worst compactness' 'worst concavity'\n",
      " 'worst concave points' 'worst symmetry' 'worst fractal dimension']\n",
      "\n",
      "target names:\n",
      " ['malignant' 'benign']\n",
      "\n",
      " c.v. score : 0.9419871794871796\n",
      "\n",
      "Accuracy:  0.9824561403508771\n"
     ]
    }
   ],
   "source": [
    "breast = datasets.load_breast_cancer()\n",
    "\n",
    "print('target y : %s \\n' % breast.target[0:5])\n",
    "print('shape:\\n', breast.data.shape)\n",
    "print('\\nfeature name:\\n', breast.feature_names)\n",
    "print('\\ntarget names:\\n', breast.target_names)\n",
    "\n",
    "X = breast.data\n",
    "y = breast.target\n",
    "\n",
    "X_train, X_test, y_train, y_test = train_test_split(X, y, test_size = 0.3, random_state = 123)\n",
    "logistic_reg = linear_model.LogisticRegression()\n",
    "logistic_reg.fit(X_train, y_train)\n",
    "print(f'\\n c.v. score : {cross_val_score(logistic_reg, X_train, y_train, cv=5).mean()}\\n')\n",
    "\n",
    "y_pred = logistic_reg.predict(X_test)\n",
    "acc = accuracy_score(y_test, y_pred)\n",
    "print(\"Accuracy: \", acc)"
   ]
  }
 ],
 "metadata": {
  "kernelspec": {
   "display_name": "Python 3",
   "language": "python",
   "name": "python3"
  },
  "language_info": {
   "codemirror_mode": {
    "name": "ipython",
    "version": 3
   },
   "file_extension": ".py",
   "mimetype": "text/x-python",
   "name": "python",
   "nbconvert_exporter": "python",
   "pygments_lexer": "ipython3",
   "version": "3.6.7"
  }
 },
 "nbformat": 4,
 "nbformat_minor": 2
}
