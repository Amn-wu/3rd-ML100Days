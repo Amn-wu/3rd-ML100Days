{
 "cells": [
  {
   "cell_type": "markdown",
   "metadata": {},
   "source": [
    "## [作業重點]\n",
    "使用 Sklearn 中的 Lasso, Ridge 模型，來訓練各種資料集，務必了解送進去模型訓練的**資料型態**為何，也請了解模型中各項參數的意義。\n",
    "\n",
    "機器學習的模型非常多種，但要訓練的資料多半有固定的格式，確保你了解訓練資料的格式為何，這樣在應用新模型時，就能夠最快的上手開始訓練！"
   ]
  },
  {
   "cell_type": "markdown",
   "metadata": {},
   "source": [
    "## 練習時間\n",
    "試著使用 sklearn datasets 的其他資料集 (boston, ...)，來訓練自己的線性迴歸模型，並加上適當的正則化來觀察訓練情形。"
   ]
  },
  {
   "cell_type": "code",
   "execution_count": 1,
   "metadata": {},
   "outputs": [],
   "source": [
    "import numpy as np\n",
    "import matplotlib.pyplot as plt\n",
    "from sklearn import datasets, linear_model\n",
    "from sklearn.model_selection import train_test_split\n",
    "from sklearn.metrics import mean_squared_error, r2_score\n",
    "\n",
    "from sklearn.model_selection import cross_val_score\n",
    "\n",
    "import warnings\n",
    "warnings.filterwarnings('ignore')"
   ]
  },
  {
   "cell_type": "code",
   "execution_count": 2,
   "metadata": {},
   "outputs": [
    {
     "name": "stdout",
     "output_type": "stream",
     "text": [
      "target y : [24.  21.6 34.7 33.4 36.2] \n",
      "\n",
      "shape:\n",
      " (506, 13)\n",
      "\n",
      "feature name:\n",
      " ['CRIM' 'ZN' 'INDUS' 'CHAS' 'NOX' 'RM' 'AGE' 'DIS' 'RAD' 'TAX' 'PTRATIO'\n",
      " 'B' 'LSTAT']\n",
      "\n",
      " c.v. score : 0.7352003766179983\n",
      "\n",
      "[-1.00993843e-01  3.99582498e-02  7.53760168e-02  2.64563972e-01\n",
      " -1.43409174e+01  4.83318293e+00 -7.44105854e-03 -1.32674018e+00\n",
      "  2.73495492e-01 -1.30440007e-02 -9.56625955e-01  6.42468925e-03\n",
      " -4.86570773e-01]\n",
      "MSE : 28.41\n"
     ]
    }
   ],
   "source": [
    "boston = datasets.load_boston()\n",
    "\n",
    "print('target y : %s \\n' % boston.target[0:5])\n",
    "print('shape:\\n', boston.data.shape)\n",
    "print('\\nfeature name:\\n', boston.feature_names)\n",
    "\n",
    "X = boston.data\n",
    "y = boston.target\n",
    "\n",
    "X_train, X_test, y_train, y_test = train_test_split(X, y, test_size = 0.3, random_state = 123)\n",
    "reg = linear_model.LinearRegression()\n",
    "reg.fit(X_train, y_train)\n",
    "print(f'\\n c.v. score : {cross_val_score(reg, X_train, y_train, cv=5).mean()}\\n')\n",
    "\n",
    "y_pred = reg.predict(X_test)\n",
    "print(reg.coef_)\n",
    "mse = mean_squared_error(y_test, y_pred)\n",
    "print(\"MSE : %.2f\" % mse)"
   ]
  },
  {
   "cell_type": "code",
   "execution_count": 3,
   "metadata": {},
   "outputs": [
    {
     "name": "stdout",
     "output_type": "stream",
     "text": [
      "\n",
      " lasso c.v. score : 0.7352251394917595\n",
      "\n",
      "\n",
      " lasso2 c.v. score : 0.5132883006181846\n",
      "\n",
      "[-1.00810460e-01  3.99684169e-02  7.40091341e-02  2.40575434e-01\n",
      " -1.39732636e+01  4.83508793e+00 -7.70727383e-03 -1.32076036e+00\n",
      "  2.72404426e-01 -1.30727619e-02 -9.53071824e-01  6.43919893e-03\n",
      " -4.87084045e-01]\n",
      "[-0.          0.01802801 -0.          0.          0.          0.\n",
      "  0.         -0.          0.         -0.01231189 -0.          0.00197355\n",
      " -0.56277901]\n",
      "MSE : 28.45\n"
     ]
    }
   ],
   "source": [
    "lasso = linear_model.Lasso(alpha=0.001)\n",
    "lasso2 = linear_model.Lasso(alpha=10)\n",
    "lasso.fit(X_train, y_train)\n",
    "lasso2.fit(X_train, y_train)\n",
    "print(f'\\n lasso c.v. score : {cross_val_score(lasso, X_train, y_train, cv=5).mean()}\\n')\n",
    "print(f'\\n lasso2 c.v. score : {cross_val_score(lasso2, X_train, y_train, cv=5).mean()}\\n')\n",
    "\n",
    "y_pred = lasso.predict(X_test)\n",
    "y_pred2 = lasso2.predict(X_test)\n",
    "print(lasso.coef_)\n",
    "print(lasso2.coef_)\n",
    "mse = mean_squared_error(y_test, y_pred)\n",
    "print(\"MSE : %.2f\" % mse)"
   ]
  },
  {
   "cell_type": "code",
   "execution_count": 5,
   "metadata": {},
   "outputs": [
    {
     "name": "stdout",
     "output_type": "stream",
     "text": [
      "\n",
      " c.v. score : 0.7352250424647386\n",
      "\n",
      "[-1.00924467e-01  3.99634195e-02  7.48451652e-02  2.62184231e-01\n",
      " -1.41985543e+01  4.83458539e+00 -7.56428956e-03 -1.32457462e+00\n",
      "  2.73046621e-01 -1.30531784e-02 -9.55211286e-01  6.43003111e-03\n",
      " -4.86714787e-01]\n",
      "MSE :  28.42\n"
     ]
    }
   ],
   "source": [
    "ridge = linear_model.Ridge(alpha=0.01)\n",
    "ridge.fit(X_train, y_train)\n",
    "print(f'\\n c.v. score : {cross_val_score(ridge, X_train, y_train, cv=5).mean()}\\n')\n",
    "\n",
    "y_pred = ridge.predict(X_test)\n",
    "print(ridge.coef_)\n",
    "mse = mean_squared_error(y_test, y_pred)\n",
    "print(\"MSE : % .2f\" %mse)"
   ]
  }
 ],
 "metadata": {
  "kernelspec": {
   "display_name": "Python 3",
   "language": "python",
   "name": "python3"
  },
  "language_info": {
   "codemirror_mode": {
    "name": "ipython",
    "version": 3
   },
   "file_extension": ".py",
   "mimetype": "text/x-python",
   "name": "python",
   "nbconvert_exporter": "python",
   "pygments_lexer": "ipython3",
   "version": "3.6.7"
  }
 },
 "nbformat": 4,
 "nbformat_minor": 2
}
